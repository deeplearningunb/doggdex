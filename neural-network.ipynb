{
 "cells": [
  {
   "cell_type": "markdown",
   "metadata": {},
   "source": [
    "### Imports"
   ]
  },
  {
   "cell_type": "code",
   "execution_count": null,
   "metadata": {},
   "outputs": [],
   "source": [
    "import pandas as pd\n",
    "from os.path import join"
   ]
  },
  {
   "cell_type": "markdown",
   "metadata": {},
   "source": [
    "### Variables"
   ]
  },
  {
   "cell_type": "code",
   "execution_count": null,
   "metadata": {},
   "outputs": [],
   "source": [
    "inputs = 'input'\n",
    "\n",
    "img_size = 128\n",
    "num_classes = 10\n",
    "\n",
    "csv = join(inputs, 'labels.csv')\n",
    "train_dir = join(inputs, 'train')\n",
    "test_dir = join(inputs, 'test')\n",
    "\n",
    "save_file = 'model.sav'"
   ]
  },
  {
   "cell_type": "markdown",
   "metadata": {},
   "source": [
    "### Get top breeds"
   ]
  },
  {
   "cell_type": "code",
   "execution_count": null,
   "metadata": {},
   "outputs": [],
   "source": [
    "df = pd.read_csv(csv)\n",
    "breeds_list = df['breed'].value_counts()[:num_classes]\n",
    "breeds_list = breeds_list.index.tolist()\n",
    "df = df[df['breed'].isin(breeds_list)]"
   ]
  },
  {
   "cell_type": "markdown",
   "metadata": {},
   "source": [
    "### Imports for deep learning"
   ]
  },
  {
   "cell_type": "code",
   "execution_count": null,
   "metadata": {},
   "outputs": [],
   "source": [
    "import tensorflow as tf\n",
    "from tensorflow.keras import layers, models\n",
    "from keras.utils import to_categorical"
   ]
  },
  {
   "cell_type": "markdown",
   "metadata": {},
   "source": [
    "### Model creation"
   ]
  },
  {
   "cell_type": "code",
   "execution_count": null,
   "metadata": {},
   "outputs": [],
   "source": [
    "model = models.Sequential()\n",
    "\n",
    "# 1st convolutional layer\n",
    "model.add(layers.Conv2D(\n",
    "    32, (3, 3),\n",
    "    activation='relu',\n",
    "    input_shape=(img_size, img_size, 3),\n",
    "    strides=2\n",
    "))\n",
    "\n",
    "model.add(layers.MaxPooling2D((2, 2)))\n",
    "\n",
    "# 2nd convolutional layer\n",
    "model.add(layers.Conv2D(\n",
    "    32, (3, 3),\n",
    "    activation='relu'\n",
    "))\n",
    "\n",
    "model.add(layers.Flatten())\n",
    "\n",
    "model.add(layers.Dense(128, activation='relu'))\n",
    "model.add(layers.Dense(64, activation='relu'))\n",
    "\n",
    "model.add(layers.Dense(num_classes, activation='softmax'))\n",
    "\n",
    "model.summary()\n",
    "\n",
    "model.compile(\n",
    "    optimizer='adam',\n",
    "    loss='categorical_crossentropy',\n",
    "    metrics=['accuracy']\n",
    ")"
   ]
  },
  {
   "cell_type": "markdown",
   "metadata": {},
   "source": [
    "### Data generators"
   ]
  },
  {
   "cell_type": "code",
   "execution_count": null,
   "metadata": {},
   "outputs": [],
   "source": [
    "from tensorflow.keras.preprocessing.image import ImageDataGenerator\n",
    "\n",
    "df.id += '.jpg'\n",
    "size = df.shape[0]\n",
    "train_size = int(size * 0.9)\n",
    "\n",
    "train_idg = ImageDataGenerator(\n",
    "    horizontal_flip=True,\n",
    "    shear_range=0.2,\n",
    "    zoom_range=0.2\n",
    ")\n",
    "valid_idg = ImageDataGenerator()\n",
    "\n",
    "train_generator = train_idg.flow_from_dataframe(\n",
    "    df[:train_size],\n",
    "    directory=train_dir,\n",
    "    x_col='id',\n",
    "    y_col='breed',\n",
    "    batch_size=32,\n",
    "    class_mode='categorical',\n",
    "    target_size=(img_size, img_size),\n",
    "    shuffle=True\n",
    ")\n",
    "\n",
    "validation_generator = valid_idg.flow_from_dataframe(\n",
    "    df[train_size:],\n",
    "    directory=train_dir,\n",
    "    x_col='id',\n",
    "    y_col='breed',\n",
    "    batch_size=64,\n",
    "    class_mode='categorical',\n",
    "    target_size=(img_size, img_size),\n",
    "    shuffle=True\n",
    ")"
   ]
  },
  {
   "cell_type": "markdown",
   "metadata": {},
   "source": [
    "### Fit"
   ]
  },
  {
   "cell_type": "code",
   "execution_count": null,
   "metadata": {},
   "outputs": [],
   "source": [
    "model.fit_generator(\n",
    "    train_generator,\n",
    "    steps_per_epoch=1000,\n",
    "    epochs=20,\n",
    "    validation_data=validation_generator,\n",
    "    validation_steps=100\n",
    ")"
   ]
  },
  {
   "cell_type": "markdown",
   "metadata": {},
   "source": [
    "### Save model"
   ]
  },
  {
   "cell_type": "code",
   "execution_count": null,
   "metadata": {},
   "outputs": [],
   "source": [
    "# import pickle\n",
    "\n",
    "# with open(save_file, 'wb') as save:\n",
    "#     pickle.dump(model, save)"
   ]
  },
  {
   "cell_type": "markdown",
   "metadata": {},
   "source": [
    "### Predict"
   ]
  },
  {
   "cell_type": "code",
   "execution_count": null,
   "metadata": {},
   "outputs": [],
   "source": [
    "# from keras.preprocessing import image\n",
    "# from keras.preprocessing.image import load_image, img_to_array\n",
    "\n",
    "# # test_idg = ImageDataGenerator()\n",
    "\n",
    "# # test_generator = test_idg.flow_from_directory(\n",
    "# #     test_dir,\n",
    "# #     target_size=(img_size, img_size),\n",
    "# #     batch_size=32,\n",
    "# #     class_mode='categorical'\n",
    "# # )\n",
    "\n",
    "# # with open(save_file, 'rb') as save:\n",
    "# #     loaded_model = pickle.load(save)\n",
    "\n",
    "# # loss, metric = loaded_model.evaluate_generator(\n",
    "# #     generator=test_generator,\n",
    "# #     steps=300\n",
    "# # )\n",
    "\n",
    "# # print(\"Loss:\", loss)\n",
    "# # print(\"Acc.:\", metric)\n",
    "\n",
    "# img_name = input('Image name:')\n",
    "# img = image.load_image(img_name, target_size=(img_size, img_size))\n",
    "# img = image.img_to_array(img)\n",
    "\n",
    "# result = loaded_model.predict(img)"
   ]
  }
 ],
 "metadata": {
  "kernelspec": {
   "display_name": "Python 3",
   "language": "python",
   "name": "python3"
  },
  "language_info": {
   "codemirror_mode": {
    "name": "ipython",
    "version": 3
   },
   "file_extension": ".py",
   "mimetype": "text/x-python",
   "name": "python",
   "nbconvert_exporter": "python",
   "pygments_lexer": "ipython3",
   "version": "3.7.3"
  }
 },
 "nbformat": 4,
 "nbformat_minor": 2
}
